{
 "cells": [
  {
   "cell_type": "markdown",
   "metadata": {},
   "source": [
    "# Assignment 1 - Sum of n numbers using while loop"
   ]
  },
  {
   "cell_type": "raw",
   "metadata": {},
   "source": [
    "*Output can be checked by using simple formula n*(n+1)/2"
   ]
  },
  {
   "cell_type": "code",
   "execution_count": 5,
   "metadata": {},
   "outputs": [
    {
     "name": "stdout",
     "output_type": "stream",
     "text": [
      "Enter number upto to which you wish to sum up :10\n",
      "Sum of 10 numbers is 55\n"
     ]
    }
   ],
   "source": [
    "sum1=0\n",
    "n=int(input(\"Enter number upto to which you wish to sum up :\"))\n",
    "i=1\n",
    "while i<=n:\n",
    "    sum1+=i\n",
    "    i+=1\n",
    "print(f\"Sum of {n} numbers is {sum1}\")"
   ]
  },
  {
   "cell_type": "markdown",
   "metadata": {},
   "source": [
    "# Assignment 2- Check whether prime number or not"
   ]
  },
  {
   "cell_type": "code",
   "execution_count": 6,
   "metadata": {},
   "outputs": [
    {
     "name": "stdout",
     "output_type": "stream",
     "text": [
      "Enter number to check it is prime or not:23\n",
      "23 is a prime number\n"
     ]
    }
   ],
   "source": [
    "n=int(input(\"Enter number to check it is prime or not:\"))\n",
    "flag=1\n",
    "if n>1:\n",
    "    for i in range(2,n):\n",
    "        if n % i ==0:\n",
    "            flag=0\n",
    "            break\n",
    "        \n",
    "    if flag==1:\n",
    "        print(f\"{n} is a prime number\")\n",
    "    else:\n",
    "        print(f\"{n} is not a prime number\")\n",
    "    \n",
    "else:\n",
    "    print(f\"{n} is not a prime number\")"
   ]
  },
  {
   "cell_type": "code",
   "execution_count": null,
   "metadata": {},
   "outputs": [],
   "source": []
  }
 ],
 "metadata": {
  "kernelspec": {
   "display_name": "Python 3",
   "language": "python",
   "name": "python3"
  },
  "language_info": {
   "codemirror_mode": {
    "name": "ipython",
    "version": 3
   },
   "file_extension": ".py",
   "mimetype": "text/x-python",
   "name": "python",
   "nbconvert_exporter": "python",
   "pygments_lexer": "ipython3",
   "version": "3.7.4"
  }
 },
 "nbformat": 4,
 "nbformat_minor": 2
}
